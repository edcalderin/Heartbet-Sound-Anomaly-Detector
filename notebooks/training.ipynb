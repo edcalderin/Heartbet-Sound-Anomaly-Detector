{
 "cells": [
  {
   "cell_type": "markdown",
   "metadata": {},
   "source": [
    "# Hearbet Sound Anomaly Detector - Training"
   ]
  },
  {
   "cell_type": "code",
   "execution_count": 1,
   "metadata": {},
   "outputs": [],
   "source": [
    "import torch\n",
    "from torch import nn\n",
    "import torch.nn.functional as F\n",
    "from torch.utils.data import Dataset, DataLoader\n",
    "import torchaudio\n",
    "import torchaudio.transforms as T\n",
    "from torchmetrics import Precision\n",
    "\n",
    "import pandas as pd\n",
    "import matplotlib.pyplot as plt\n",
    "from pathlib import Path"
   ]
  },
  {
   "cell_type": "code",
   "execution_count": 2,
   "metadata": {},
   "outputs": [
    {
     "data": {
      "text/plain": [
       "'2.1.1+cu121'"
      ]
     },
     "execution_count": 2,
     "metadata": {},
     "output_type": "execute_result"
    }
   ],
   "source": [
    "torch.__version__"
   ]
  },
  {
   "cell_type": "code",
   "execution_count": 3,
   "metadata": {},
   "outputs": [
    {
     "data": {
      "text/plain": [
       "True"
      ]
     },
     "execution_count": 3,
     "metadata": {},
     "output_type": "execute_result"
    }
   ],
   "source": [
    "torch.cuda.is_available()"
   ]
  },
  {
   "cell_type": "markdown",
   "metadata": {},
   "source": [
    "## Creating Pandas dataframe"
   ]
  },
  {
   "cell_type": "code",
   "execution_count": 4,
   "metadata": {},
   "outputs": [],
   "source": [
    "AUDIO_DIR = Path('../unzipped_data/')\n",
    "\n",
    "def list_files():\n",
    "    for file in AUDIO_DIR.glob('**/*.wav'):\n",
    "        yield file.as_posix()\n",
    "\n",
    "def create_dataframe():\n",
    "    data_files = []\n",
    "    for filename in list_files():\n",
    "        if filename.find('artifact')>-1:\n",
    "            data_files.append((filename, 'artifact'))\n",
    "        if filename.find('extrahls')>-1:\n",
    "            data_files.append((filename, 'extrahls'))\n",
    "        if filename.find('extrastole')>-1:\n",
    "            data_files.append((filename, 'extrastole'))\n",
    "        if filename.find('murmur')>-1:\n",
    "            data_files.append((filename, 'murmur'))\n",
    "        if filename.find('normal')>-1:\n",
    "            data_files.append((filename, 'normal'))\n",
    "\n",
    "    return pd.DataFrame(data_files, columns=('fname', 'label'))"
   ]
  },
  {
   "cell_type": "code",
   "execution_count": 5,
   "metadata": {},
   "outputs": [],
   "source": [
    "dataframe = create_dataframe()"
   ]
  },
  {
   "cell_type": "markdown",
   "metadata": {},
   "source": [
    "## Custom Dataset and DataLoaders"
   ]
  },
  {
   "cell_type": "code",
   "execution_count": 6,
   "metadata": {},
   "outputs": [
    {
     "data": {
      "text/plain": [
       "{'artifact': 0, 'extrahls': 1, 'murmur': 2, 'normal': 3, 'extrastole': 4}"
      ]
     },
     "execution_count": 6,
     "metadata": {},
     "output_type": "execute_result"
    }
   ],
   "source": [
    "labels = dataframe.label.unique()\n",
    "dict(zip(labels, range(len(labels))))"
   ]
  },
  {
   "cell_type": "code",
   "execution_count": 7,
   "metadata": {},
   "outputs": [],
   "source": [
    "class AudioDataset(Dataset):\n",
    "    def __init__(self, dataframe: pd.DataFrame, audio_length: float, target_sample_rate: int) -> None:\n",
    "        self.dataframe = dataframe\n",
    "        self.audio_length = audio_length\n",
    "        self.target_sample_rate = target_sample_rate\n",
    "        self.num_samples = target_sample_rate * audio_length\n",
    "        self.labels = dataframe['label'].values\n",
    "        self.filenames = dataframe['fname'].values\n",
    "        self.class_indices = {'artifact': 0, 'extrahls': 1, 'murmur': 2, 'normal': 3, 'extrastole': 4}\n",
    "\n",
    "    def __len__(self):\n",
    "        return len(self.dataframe)\n",
    "\n",
    "    def __getitem__(self, index) -> dict:\n",
    "        waveform, sample_rate = torchaudio.load(self.filenames[index])\n",
    "        waveform = torch.mean(waveform, axis=0)\n",
    "\n",
    "        if sample_rate!=self.target_sample_rate:\n",
    "            resampler = T.Resample(sample_rate, self.target_sample_rate)\n",
    "            waveform = resampler(waveform)\n",
    "\n",
    "        if waveform.shape[0] > self.num_samples:\n",
    "            waveform = waveform[:self.num_samples]\n",
    "        else:\n",
    "            waveform = F.pad(waveform, (0, self.num_samples - waveform.shape[0]))\n",
    "        melspectrgoram = T.MelSpectrogram(n_fft=128, n_mels=128, hop_length=128)\n",
    "        melspec = melspectrgoram(waveform)\n",
    "\n",
    "        class_idx = self.class_indices[self.labels[index]]\n",
    "\n",
    "        return torch.stack([melspec]), class_idx"
   ]
  },
  {
   "cell_type": "code",
   "execution_count": 8,
   "metadata": {},
   "outputs": [],
   "source": [
    "SEED: int = 42\n",
    "AUDIO_LENGTH: int = 15\n",
    "TARGET_SAMPLE_RATE: int = 4000\n",
    "\n",
    "audio_dataset = AudioDataset(dataframe, AUDIO_LENGTH, TARGET_SAMPLE_RATE)\n",
    "generator = torch.Generator().manual_seed(SEED)\n",
    "train_dataset, test_dataset = torch.utils.data.random_split(audio_dataset, [.7, .3], generator)"
   ]
  },
  {
   "cell_type": "code",
   "execution_count": 9,
   "metadata": {},
   "outputs": [
    {
     "name": "stdout",
     "output_type": "stream",
     "text": [
      "Train: 410 -- Test: 175\n"
     ]
    }
   ],
   "source": [
    "print('Train:', len(train_dataset.indices), '-- Test:', len(test_dataset.indices))"
   ]
  },
  {
   "cell_type": "markdown",
   "metadata": {},
   "source": [
    "## Training"
   ]
  },
  {
   "cell_type": "markdown",
   "metadata": {},
   "source": [
    "### Architecture"
   ]
  },
  {
   "cell_type": "code",
   "execution_count": 10,
   "metadata": {},
   "outputs": [],
   "source": [
    "# NUM_CLASSES: 5\n",
    "# INPUT_SHAPE: (128, 469, 1)\n",
    "\n",
    "class Network(nn.Module):\n",
    "    def __init__(self) -> None:\n",
    "        super().__init__()\n",
    "\n",
    "        self.conv_block1 = nn.Sequential(\n",
    "            nn.Conv2d(1, 16, kernel_size=(3, 4)),\n",
    "            nn.BatchNorm2d(16),\n",
    "            nn.MaxPool2d(kernel_size=(2, 3), stride=(2, 3)),\n",
    "            nn.ReLU()\n",
    "        )\n",
    "        self.conv_block2 = nn.Sequential(\n",
    "            nn.Conv2d(16, 32, kernel_size=(3, 4)),\n",
    "            nn.BatchNorm2d(32),\n",
    "            nn.MaxPool2d(kernel_size=(2, 3), stride=(2, 3)),\n",
    "            nn.ReLU()\n",
    "        )\n",
    "        self.conv_block3 = nn.Sequential(\n",
    "            nn.Conv2d(32, 64, kernel_size=(3, 4)),\n",
    "            nn.BatchNorm2d(64),\n",
    "            nn.ReLU()\n",
    "        )\n",
    "        self.dense_layers = nn.Sequential(\n",
    "            nn.Linear(64*28*47, 100),\n",
    "            nn.Dropout(0.2),\n",
    "            nn.ReLU(),\n",
    "            nn.Linear(100, 5)\n",
    "        )\n",
    "\n",
    "    def forward(self, X):\n",
    "        X = self.conv_block1(X)\n",
    "        X = self.conv_block2(X)\n",
    "        X = self.conv_block3(X)\n",
    "        X = X.view(-1, 64*28*47)\n",
    "        X = self.dense_layers(X)\n",
    "        return X"
   ]
  },
  {
   "cell_type": "code",
   "execution_count": 11,
   "metadata": {},
   "outputs": [
    {
     "name": "stdout",
     "output_type": "stream",
     "text": [
      "Network(\n",
      "  (conv_block1): Sequential(\n",
      "    (0): Conv2d(1, 16, kernel_size=(3, 4), stride=(1, 1))\n",
      "    (1): BatchNorm2d(16, eps=1e-05, momentum=0.1, affine=True, track_running_stats=True)\n",
      "    (2): MaxPool2d(kernel_size=(2, 3), stride=(2, 3), padding=0, dilation=1, ceil_mode=False)\n",
      "    (3): ReLU()\n",
      "  )\n",
      "  (conv_block2): Sequential(\n",
      "    (0): Conv2d(16, 32, kernel_size=(3, 4), stride=(1, 1))\n",
      "    (1): BatchNorm2d(32, eps=1e-05, momentum=0.1, affine=True, track_running_stats=True)\n",
      "    (2): MaxPool2d(kernel_size=(2, 3), stride=(2, 3), padding=0, dilation=1, ceil_mode=False)\n",
      "    (3): ReLU()\n",
      "  )\n",
      "  (conv_block3): Sequential(\n",
      "    (0): Conv2d(32, 64, kernel_size=(3, 4), stride=(1, 1))\n",
      "    (1): BatchNorm2d(64, eps=1e-05, momentum=0.1, affine=True, track_running_stats=True)\n",
      "    (2): ReLU()\n",
      "  )\n",
      "  (dense_layers): Sequential(\n",
      "    (0): Linear(in_features=84224, out_features=100, bias=True)\n",
      "    (1): Dropout(p=0.2, inplace=False)\n",
      "    (2): ReLU()\n",
      "    (3): Linear(in_features=100, out_features=5, bias=True)\n",
      "  )\n",
      ")\n"
     ]
    }
   ],
   "source": [
    "print(Network())"
   ]
  },
  {
   "cell_type": "markdown",
   "metadata": {},
   "source": [
    "### Training model"
   ]
  },
  {
   "cell_type": "code",
   "execution_count": 12,
   "metadata": {},
   "outputs": [],
   "source": [
    "from typing import Callable, Dict, List, Tuple\n",
    "\n",
    "class HearbetDetectorTrainer:\n",
    "    def __init__(self, model, device: str) -> None:\n",
    "        if not isinstance(model, nn.Module):\n",
    "            raise ValueError('The provided model is not an instance of nn.Module')\n",
    "\n",
    "        self.__device = device\n",
    "        self.__precision_fn: Callable = Precision(task = 'multiclass', num_classes = 5).to(device)\n",
    "        self.__model = model.to(device)\n",
    "        self.__model.apply(self.__init_weights)\n",
    "\n",
    "    def __init_weights(self, module) -> None:\n",
    "        if isinstance(module, (nn.Linear, nn.Conv2d)):\n",
    "            torch.nn.init.xavier_uniform_(module.weight)\n",
    "            module.bias.data.fill_(0.01)\n",
    "\n",
    "    def __inner_loop(self, specs, labels, loss_function: torch.nn.Module, is_train: bool) -> Tuple:\n",
    "        specs, labels = specs.to(self.__device), labels.to(self.__device)\n",
    "        outputs = self.__model(specs)\n",
    "        loss = loss_function(outputs, labels)\n",
    "        loss_value = loss.cpu().item()\n",
    "        if is_train:\n",
    "            loss.backward()\n",
    "        return loss_value, self.__precision_fn(outputs, labels).item()\n",
    "\n",
    "    def __train_step(self, optimizer: torch.optim.Optimizer, train_loader: torch.utils.data.DataLoader, loss_function: torch.nn.Module) -> Tuple[float, float]:\n",
    "        train_loss, train_precision = 0, 0\n",
    "\n",
    "        self.__model.train()\n",
    "        for specs, labels in train_loader:\n",
    "            optimizer.zero_grad()\n",
    "            loss_value, precision_value = self.__inner_loop(specs, labels, loss_function, is_train = True)\n",
    "            train_loss += loss_value\n",
    "            train_precision += precision_value\n",
    "            optimizer.step()\n",
    "\n",
    "        length_train_loader = len(train_loader)\n",
    "\n",
    "        return train_loss/length_train_loader, train_precision/length_train_loader\n",
    "\n",
    "    def __test_step(self, val_loader: torch.utils.data.DataLoader, loss_function: torch.nn.Module) -> Tuple[float, float]:\n",
    "        val_precision, val_loss = 0, 0\n",
    "\n",
    "        self.__model.eval()\n",
    "        with torch.inference_mode():\n",
    "            for specs, labels in val_loader:\n",
    "                loss_value, precision_value = self.__inner_loop(specs, labels, loss_function, is_train = False)\n",
    "                val_loss += loss_value\n",
    "                val_precision += precision_value\n",
    "\n",
    "        length_val_loader = len(val_loader)\n",
    "\n",
    "        return val_loss/length_val_loader, val_precision/length_val_loader\n",
    "\n",
    "    def fit(self,\n",
    "            loss_function: torch.nn.Module,\n",
    "            optimizer: torch.optim.Optimizer,\n",
    "            epochs: int,\n",
    "            batch_size: int,\n",
    "            training_set,\n",
    "            validation_set) -> Dict[str, List]:\n",
    "\n",
    "        train_loader = DataLoader(training_set, batch_size=batch_size, shuffle=True)\n",
    "        val_loader = DataLoader(validation_set, batch_size=batch_size)\n",
    "\n",
    "        print('Training on', self.__device)\n",
    "\n",
    "        report_dict: Dict =  {\n",
    "            'loss': [],\n",
    "            'precision': [],\n",
    "            'val_loss': [],\n",
    "            'val_precision': []\n",
    "        }\n",
    "\n",
    "        for epoch in range(epochs):\n",
    "            train_loss, train_precision = self.__train_step(optimizer, train_loader, loss_function)\n",
    "            val_loss, val_precision = self.__test_step(val_loader, loss_function)\n",
    "\n",
    "            report_dict['loss'].append(train_loss)\n",
    "            report_dict['precision'].append(train_precision)\n",
    "            report_dict['val_loss'].append(val_loss)\n",
    "            report_dict['val_precision'].append(val_precision)\n",
    "\n",
    "            print('Epoch: {} | Loss: {:.4f} - Precision: {:.4f} - Val loss: {:.4f} - Val precision: {:.4f}'\n",
    "                  .format(epoch+1, train_loss, train_precision, val_loss, val_precision))\n",
    "\n",
    "        return report_dict"
   ]
  },
  {
   "cell_type": "markdown",
   "metadata": {},
   "source": [
    "Calculating weights to fix unbalanced classes:"
   ]
  },
  {
   "cell_type": "code",
   "execution_count": 15,
   "metadata": {},
   "outputs": [
    {
     "name": "stdout",
     "output_type": "stream",
     "text": [
      "label\n",
      "normal        0.34\n",
      "murmur        0.85\n",
      "extrastole    2.83\n",
      "artifact      2.93\n",
      "extrahls      5.86\n",
      "Name: count, dtype: float64\n",
      "[0.34, 0.85, 2.83, 2.93, 5.86]\n"
     ]
    }
   ],
   "source": [
    "train_df = dataframe.iloc[train_dataset.indices]\n",
    "weights = round(len(train_df)/(5*train_df.label.value_counts()), 2)\n",
    "print(weights)\n",
    "print(list(weights.values))"
   ]
  },
  {
   "cell_type": "code",
   "execution_count": 14,
   "metadata": {},
   "outputs": [
    {
     "name": "stdout",
     "output_type": "stream",
     "text": [
      "Training on cuda\n"
     ]
    },
    {
     "name": "stderr",
     "output_type": "stream",
     "text": [
      "c:\\Users\\Erick\\miniconda3\\envs\\heartbet-sound-anomaly-detector-py311\\Lib\\site-packages\\torchaudio\\functional\\functional.py:584: UserWarning: At least one mel filterbank has all zero values. The value for `n_mels` (128) may be set too high. Or, the value for `n_freqs` (65) may be set too low.\n",
      "  warnings.warn(\n"
     ]
    },
    {
     "name": "stdout",
     "output_type": "stream",
     "text": [
      "Epoch: 1 | Loss: 1.5107 - Precision: 0.5146 - Val loss: 1.1629 - Val precision: 0.6326\n",
      "Epoch: 2 | Loss: 0.8720 - Precision: 0.6359 - Val loss: 1.0108 - Val precision: 0.6326\n",
      "Epoch: 3 | Loss: 0.8158 - Precision: 0.6529 - Val loss: 1.1481 - Val precision: 0.6269\n",
      "Epoch: 4 | Loss: 0.7146 - Precision: 0.7112 - Val loss: 1.1101 - Val precision: 0.6439\n",
      "Epoch: 5 | Loss: 0.6836 - Precision: 0.7451 - Val loss: 1.1492 - Val precision: 0.6269\n",
      "Epoch: 6 | Loss: 0.5936 - Precision: 0.7670 - Val loss: 1.2449 - Val precision: 0.6269\n",
      "Epoch: 7 | Loss: 0.5805 - Precision: 0.7597 - Val loss: 1.3507 - Val precision: 0.6326\n",
      "Epoch: 8 | Loss: 0.5070 - Precision: 0.8010 - Val loss: 1.1790 - Val precision: 0.6269\n",
      "Epoch: 9 | Loss: 0.4770 - Precision: 0.8131 - Val loss: 1.3783 - Val precision: 0.6155\n",
      "Epoch: 10 | Loss: 0.4077 - Precision: 0.8180 - Val loss: 1.4941 - Val precision: 0.6155\n",
      "Epoch: 11 | Loss: 0.3883 - Precision: 0.8374 - Val loss: 1.6401 - Val precision: 0.6098\n",
      "Epoch: 12 | Loss: 0.4111 - Precision: 0.8301 - Val loss: 1.4859 - Val precision: 0.6269\n",
      "Epoch: 13 | Loss: 0.3498 - Precision: 0.8471 - Val loss: 1.6277 - Val precision: 0.6098\n",
      "Epoch: 14 | Loss: 0.3395 - Precision: 0.8568 - Val loss: 1.4523 - Val precision: 0.5871\n",
      "Epoch: 15 | Loss: 0.3502 - Precision: 0.8592 - Val loss: 1.8234 - Val precision: 0.5985\n",
      "Epoch: 16 | Loss: 0.2710 - Precision: 0.8786 - Val loss: 1.7499 - Val precision: 0.5928\n",
      "Epoch: 17 | Loss: 0.2824 - Precision: 0.8762 - Val loss: 1.6130 - Val precision: 0.5701\n",
      "Epoch: 18 | Loss: 0.3164 - Precision: 0.8641 - Val loss: 1.9772 - Val precision: 0.5701\n",
      "Epoch: 19 | Loss: 0.2612 - Precision: 0.8786 - Val loss: 2.1570 - Val precision: 0.5758\n",
      "Epoch: 20 | Loss: 0.2445 - Precision: 0.8883 - Val loss: 2.1433 - Val precision: 0.5758\n",
      "Epoch: 21 | Loss: 0.2335 - Precision: 0.8908 - Val loss: 2.0389 - Val precision: 0.5758\n",
      "Epoch: 22 | Loss: 0.2305 - Precision: 0.8981 - Val loss: 1.8194 - Val precision: 0.5871\n",
      "Epoch: 23 | Loss: 0.2228 - Precision: 0.8932 - Val loss: 1.9071 - Val precision: 0.5644\n",
      "Epoch: 24 | Loss: 0.2364 - Precision: 0.8956 - Val loss: 2.8415 - Val precision: 0.5644\n",
      "Epoch: 25 | Loss: 0.2266 - Precision: 0.8956 - Val loss: 1.9547 - Val precision: 0.5701\n",
      "Epoch: 26 | Loss: 0.2145 - Precision: 0.8932 - Val loss: 1.7764 - Val precision: 0.5701\n",
      "Epoch: 27 | Loss: 0.2337 - Precision: 0.8956 - Val loss: 2.4381 - Val precision: 0.5587\n",
      "Epoch: 28 | Loss: 0.2025 - Precision: 0.9053 - Val loss: 2.3135 - Val precision: 0.5701\n",
      "Epoch: 29 | Loss: 0.2018 - Precision: 0.8956 - Val loss: 2.2215 - Val precision: 0.5701\n",
      "Epoch: 30 | Loss: 0.1995 - Precision: 0.9005 - Val loss: 1.7752 - Val precision: 0.5985\n",
      "CPU times: total: 13min 40s\n",
      "Wall time: 3min 46s\n"
     ]
    }
   ],
   "source": [
    "%%time\n",
    "\n",
    "device: str = 'cuda' if torch.cuda.is_available() else 'cpu'\n",
    "\n",
    "model = Network()\n",
    "\n",
    "hearbetDetectorNetwork = HearbetDetectorTrainer(model=model, device = device)\n",
    "\n",
    "class_weights = torch.tensor([0.34, 0.85, 2.83, 2.93, 5.86]).to(device)\n",
    "loss_function = nn.CrossEntropyLoss(weight = class_weights)\n",
    "EPOCHS: int = 30\n",
    "BATCH_SIZE: int = 4\n",
    "LEARNING_RATE: float = 0.0001\n",
    "optimizer = torch.optim.SGD(params = model.parameters(), lr = LEARNING_RATE, momentum = 0.9)\n",
    "\n",
    "history = hearbetDetectorNetwork.fit(loss_function = loss_function,\n",
    "                                     optimizer = optimizer,\n",
    "                                     epochs = EPOCHS,\n",
    "                                     batch_size = BATCH_SIZE,\n",
    "                                     training_set = train_dataset,\n",
    "                                     validation_set = test_dataset)"
   ]
  },
  {
   "cell_type": "code",
   "execution_count": 16,
   "metadata": {},
   "outputs": [],
   "source": [
    "def plot_loss_curves(history: Dict[str, List]):\n",
    "    _, (ax1, ax2) = plt.subplots(1, 2, figsize=(10, 3))\n",
    "\n",
    "    epochs = range(1, len(history['loss']) + 1)\n",
    "\n",
    "    ax1.set_title('Loss')\n",
    "    ax1.plot(epochs, history['loss'], label='Training')\n",
    "    ax1.plot(epochs, history['val_loss'], label='Validation')\n",
    "    ax1.legend()\n",
    "\n",
    "    ax2.set_title('Precision')\n",
    "    ax2.plot(epochs, history['precision'], label='Training')\n",
    "    ax2.plot(epochs, history['val_precision'], label='Validation')\n",
    "    ax2.legend()"
   ]
  },
  {
   "cell_type": "code",
   "execution_count": 17,
   "metadata": {},
   "outputs": [
    {
     "data": {
      "image/png": "[encoded data removed]",
      "text/plain": [
       "<Figure size 1000x300 with 2 Axes>"
      ]
     },
     "metadata": {},
     "output_type": "display_data"
    }
   ],
   "source": [
    "plot_loss_curves(history)"
   ]
  },
  {
   "cell_type": "markdown",
   "metadata": {},
   "source": [
    "## Training with Pretrained model"
   ]
  },
  {
   "cell_type": "code",
   "execution_count": 18,
   "metadata": {},
   "outputs": [],
   "source": [
    "class AudioDataset_1(Dataset):\n",
    "    def __init__(self, dataframe: pd.DataFrame, audio_length: float, target_sample_rate: int) -> None:\n",
    "        self.dataframe = dataframe\n",
    "        self.audio_length = audio_length\n",
    "        self.target_sample_rate = target_sample_rate\n",
    "        self.num_samples = target_sample_rate * audio_length\n",
    "        self.labels = dataframe['label'].values\n",
    "        self.filenames = dataframe['fname'].values\n",
    "        self.class_indices = {'artifact': 0, 'extrahls': 1, 'murmur': 2, 'normal': 3, 'extrastole': 4}\n",
    "\n",
    "    def __len__(self):\n",
    "        return len(self.dataframe)\n",
    "\n",
    "    def __getitem__(self, index: int) -> Tuple:\n",
    "        waveform, sample_rate = torchaudio.load(self.filenames[index])\n",
    "        waveform = torch.mean(waveform, axis=0)\n",
    "\n",
    "        if sample_rate!=self.target_sample_rate:\n",
    "            resampler = T.Resample(sample_rate, self.target_sample_rate)\n",
    "            waveform = resampler(waveform)\n",
    "\n",
    "        if waveform.shape[0] > self.num_samples:\n",
    "            waveform = waveform[:self.num_samples]\n",
    "        else:\n",
    "            waveform = F.pad(waveform, (0, self.num_samples - waveform.shape[0]))\n",
    "        melspectrgoram = T.MelSpectrogram(n_fft=128, n_mels=128, hop_length=128)\n",
    "        melspec = melspectrgoram(waveform)\n",
    "\n",
    "        class_idx = self.class_indices[self.labels[index]]\n",
    "\n",
    "        return torch.stack([melspec]).expand(3, -1, -1), class_idx"
   ]
  },
  {
   "cell_type": "code",
   "execution_count": 19,
   "metadata": {},
   "outputs": [],
   "source": [
    "SEED: int = 42\n",
    "AUDIO_LENGTH: int = 15\n",
    "TARGET_SAMPLE_RATE: int = 4000\n",
    "\n",
    "audio_dataset = AudioDataset_1(dataframe, AUDIO_LENGTH, TARGET_SAMPLE_RATE)\n",
    "generator = torch.Generator().manual_seed(SEED)\n",
    "train_dataset, test_dataset = torch.utils.data.random_split(audio_dataset, [.7, .3], generator)"
   ]
  },
  {
   "cell_type": "code",
   "execution_count": 20,
   "metadata": {},
   "outputs": [
    {
     "name": "stderr",
     "output_type": "stream",
     "text": [
      "Using cache found in C:\\Users\\Erick/.cache\\torch\\hub\\facebookresearch_dino_main\n"
     ]
    }
   ],
   "source": [
    "dino_vitb8 = torch.hub.load('facebookresearch/dino:main', 'dino_vitb8')"
   ]
  },
  {
   "cell_type": "code",
   "execution_count": 44,
   "metadata": {},
   "outputs": [],
   "source": [
    "for params in dino_vitb8.parameters():\n",
    "    params.requires_grad = False\n",
    "\n",
    "dino_vitb8.head = nn.Sequential(nn.Linear(dino_vitb8.embed_dim,5))"
   ]
  },
  {
   "cell_type": "code",
   "execution_count": 28,
   "metadata": {},
   "outputs": [],
   "source": [
    "# NUM_CLASSES: 5\n",
    "# INPUT_SHAPE: (128, 469, 1)\n",
    "\n",
    "class Network(nn.Module):\n",
    "    def __init__(self) -> None:\n",
    "        super().__init__()\n",
    "\n",
    "        self.__dino_vitb8 = torch.hub.load_state_dict_from_url('https://dl.fbaipublicfiles.com/dino/dino_deitsmall16_pretrain/dino_deitsmall16_pretrain.pth')\n",
    "        self.__model = nn.Sequential(\n",
    "            nn.Linear(self.__dino_vitb8.embed_dim, 5)\n",
    "        ).load_state_dict(self.__dino_vitb8)\n",
    "\n",
    "    def forward(self, input):\n",
    "        logits = self.__model(input)\n",
    "        return logits"
   ]
  },
  {
   "cell_type": "code",
   "execution_count": 29,
   "metadata": {},
   "outputs": [
    {
     "name": "stderr",
     "output_type": "stream",
     "text": [
      "Downloading: \"https://dl.fbaipublicfiles.com/dino/dino_deitsmall16_pretrain/dino_deitsmall16_pretrain.pth\" to C:\\Users\\Erick/.cache\\torch\\hub\\checkpoints\\dino_deitsmall16_pretrain.pth\n",
      "100%|██████████| 82.7M/82.7M [02:27<00:00, 588kB/s] \n"
     ]
    },
    {
     "ename": "AttributeError",
     "evalue": "'dict' object has no attribute 'embed_dim'",
     "output_type": "error",
     "traceback": [
      "\u001b[1;31m---------------------------------------------------------------------------\u001b[0m",
      "\u001b[1;31mAttributeError\u001b[0m                            Traceback (most recent call last)",
      "File \u001b[1;32m<timed exec>:3\u001b[0m\n",
      "Cell \u001b[1;32mIn[28], line 10\u001b[0m, in \u001b[0;36mNetwork.__init__\u001b[1;34m(self)\u001b[0m\n\u001b[0;32m      6\u001b[0m \u001b[38;5;28msuper\u001b[39m()\u001b[38;5;241m.\u001b[39m\u001b[38;5;21m__init__\u001b[39m()\n\u001b[0;32m      8\u001b[0m \u001b[38;5;28mself\u001b[39m\u001b[38;5;241m.\u001b[39m__dino_vitb8 \u001b[38;5;241m=\u001b[39m torch\u001b[38;5;241m.\u001b[39mhub\u001b[38;5;241m.\u001b[39mload_state_dict_from_url(\u001b[38;5;124m'\u001b[39m\u001b[38;5;124mhttps://dl.fbaipublicfiles.com/dino/dino_deitsmall16_pretrain/dino_deitsmall16_pretrain.pth\u001b[39m\u001b[38;5;124m'\u001b[39m)\n\u001b[0;32m      9\u001b[0m \u001b[38;5;28mself\u001b[39m\u001b[38;5;241m.\u001b[39m__model \u001b[38;5;241m=\u001b[39m nn\u001b[38;5;241m.\u001b[39mSequential(\n\u001b[1;32m---> 10\u001b[0m     nn\u001b[38;5;241m.\u001b[39mLinear(\u001b[38;5;28;43mself\u001b[39;49m\u001b[38;5;241;43m.\u001b[39;49m\u001b[43m__dino_vitb8\u001b[49m\u001b[38;5;241;43m.\u001b[39;49m\u001b[43membed_dim\u001b[49m, \u001b[38;5;241m5\u001b[39m)\n\u001b[0;32m     11\u001b[0m )\u001b[38;5;241m.\u001b[39mload_state_dict(\u001b[38;5;28mself\u001b[39m\u001b[38;5;241m.\u001b[39m__dino_vitb8)\n",
      "\u001b[1;31mAttributeError\u001b[0m: 'dict' object has no attribute 'embed_dim'"
     ]
    }
   ],
   "source": [
    "%%time\n",
    "\n",
    "device: str = 'cuda' if torch.cuda.is_available() else 'cpu'\n",
    "\n",
    "hearbetDetectorNetwork = HearbetDetectorTrainer(Network(), lr = 0.0001, device = device)\n",
    "\n",
    "class_weights = torch.tensor([0.34, 0.85, 2.83, 2.93, 5.86]).to(device)\n",
    "EPOCHS = 2\n",
    "\n",
    "history = hearbetDetectorNetwork.fit(nn.CrossEntropyLoss(),\n",
    "                                     epochs = EPOCHS,\n",
    "                                     batch_size = 4,\n",
    "                                     training_set = train_dataset,\n",
    "                                     validation_set = test_dataset)"
   ]
  },
  {
   "cell_type": "code",
   "execution_count": null,
   "metadata": {},
   "outputs": [],
   "source": []
  }
 ],
 "metadata": {
  "kernelspec": {
   "display_name": "Python 3 (ipykernel)",
   "language": "python",
   "name": "python3"
  },
  "language_info": {
   "codemirror_mode": {
    "name": "ipython",
    "version": 3
   },
   "file_extension": ".py",
   "mimetype": "text/x-python",
   "name": "python",
   "nbconvert_exporter": "python",
   "pygments_lexer": "ipython3",
   "version": "3.11.5"
  }
 },
 "nbformat": 4,
 "nbformat_minor": 4
}
