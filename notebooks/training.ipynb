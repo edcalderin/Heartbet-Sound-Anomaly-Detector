{
 "cells": [
  {
   "cell_type": "markdown",
   "metadata": {},
   "source": [
    "# Hearbet Sound Anomaly Detector - Training"
   ]
  },
  {
   "cell_type": "code",
   "execution_count": 1,
   "metadata": {},
   "outputs": [],
   "source": [
    "import torch\n",
    "from torch import nn\n",
    "import torch.nn.functional as F\n",
    "from torch.utils.data import Dataset, DataLoader\n",
    "import torchaudio\n",
    "import torchaudio.transforms as T\n",
    "from torchmetrics import Precision\n",
    "\n",
    "import pandas as pd\n",
    "import matplotlib.pyplot as plt\n",
    "from pathlib import Path"
   ]
  },
  {
   "cell_type": "code",
   "execution_count": 2,
   "metadata": {},
   "outputs": [
    {
     "data": {
      "text/plain": [
       "'2.1.1+cu121'"
      ]
     },
     "execution_count": 2,
     "metadata": {},
     "output_type": "execute_result"
    }
   ],
   "source": [
    "torch.__version__"
   ]
  },
  {
   "cell_type": "code",
   "execution_count": 3,
   "metadata": {},
   "outputs": [
    {
     "data": {
      "text/plain": [
       "True"
      ]
     },
     "execution_count": 3,
     "metadata": {},
     "output_type": "execute_result"
    }
   ],
   "source": [
    "torch.cuda.is_available()"
   ]
  },
  {
   "cell_type": "markdown",
   "metadata": {},
   "source": [
    "## Creating Pandas dataframe"
   ]
  },
  {
   "cell_type": "code",
   "execution_count": 4,
   "metadata": {},
   "outputs": [],
   "source": [
    "AUDIO_DIR = Path('../unzipped_data/')\n",
    "\n",
    "def list_files():\n",
    "    for file in AUDIO_DIR.glob('**/*.wav'):\n",
    "        yield file.as_posix()\n",
    "\n",
    "def create_dataframe():\n",
    "    data_files = []\n",
    "    for filename in list_files():\n",
    "        if filename.find('artifact')>-1:\n",
    "            data_files.append((filename, 'artifact'))\n",
    "        if filename.find('extrahls')>-1:\n",
    "            data_files.append((filename, 'extrahls'))\n",
    "        if filename.find('extrastole')>-1:\n",
    "            data_files.append((filename, 'extrastole'))\n",
    "        if filename.find('murmur')>-1:\n",
    "            data_files.append((filename, 'murmur'))\n",
    "        if filename.find('normal')>-1:\n",
    "            data_files.append((filename, 'normal'))\n",
    "\n",
    "    return pd.DataFrame(data_files, columns=('fname', 'label'))"
   ]
  },
  {
   "cell_type": "code",
   "execution_count": 5,
   "metadata": {},
   "outputs": [],
   "source": [
    "dataframe = create_dataframe()"
   ]
  },
  {
   "cell_type": "markdown",
   "metadata": {},
   "source": [
    "## Custom Dataset and DataLoaders"
   ]
  },
  {
   "cell_type": "code",
   "execution_count": 6,
   "metadata": {},
   "outputs": [
    {
     "data": {
      "text/plain": [
       "{'artifact': 0, 'extrahls': 1, 'murmur': 2, 'normal': 3, 'extrastole': 4}"
      ]
     },
     "execution_count": 6,
     "metadata": {},
     "output_type": "execute_result"
    }
   ],
   "source": [
    "labels = dataframe.label.unique()\n",
    "dict(zip(labels, range(len(labels))))"
   ]
  },
  {
   "cell_type": "code",
   "execution_count": 7,
   "metadata": {},
   "outputs": [],
   "source": [
    "class AudioDataset(Dataset):\n",
    "    def __init__(self, dataframe: pd.DataFrame, audio_length: float, target_sample_rate: int) -> None:\n",
    "        self.dataframe = dataframe\n",
    "        self.audio_length = audio_length\n",
    "        self.target_sample_rate = target_sample_rate\n",
    "        self.num_samples = target_sample_rate * audio_length\n",
    "        self.labels = dataframe['label'].values\n",
    "        self.filenames = dataframe['fname'].values\n",
    "        self.class_indices = {'artifact': 0, 'extrahls': 1, 'murmur': 2, 'normal': 3, 'extrastole': 4}\n",
    "        \n",
    "    def __len__(self):\n",
    "        return len(self.dataframe)\n",
    "    \n",
    "    def __getitem__(self, index) -> dict:\n",
    "        waveform, sample_rate = torchaudio.load(self.filenames[index])\n",
    "        waveform = torch.mean(waveform, axis=0)\n",
    "        \n",
    "        if sample_rate!=self.target_sample_rate:\n",
    "            resampler = T.Resample(sample_rate, self.target_sample_rate)\n",
    "            waveform = resampler(waveform)\n",
    "        \n",
    "        if waveform.shape[0] > self.num_samples:\n",
    "            waveform = waveform[:self.num_samples]\n",
    "        else:\n",
    "            waveform = F.pad(waveform, (0, self.num_samples - waveform.shape[0]))\n",
    "        melspectrgoram = T.MelSpectrogram(n_fft=128, n_mels=128, hop_length=128)\n",
    "        melspec = melspectrgoram(waveform)\n",
    "        \n",
    "        class_idx = self.class_indices[self.labels[index]]\n",
    "        \n",
    "        return torch.stack([melspec]), class_idx"
   ]
  },
  {
   "cell_type": "code",
   "execution_count": 8,
   "metadata": {},
   "outputs": [],
   "source": [
    "SEED: int = 42\n",
    "AUDIO_LENGTH: int = 15\n",
    "TARGET_SAMPLE_RATE: int = 4000\n",
    "\n",
    "audio_dataset = AudioDataset(dataframe, AUDIO_LENGTH, TARGET_SAMPLE_RATE)\n",
    "generator = torch.Generator().manual_seed(SEED)\n",
    "train_dataset, test_dataset = torch.utils.data.random_split(audio_dataset, [.7, .3], generator)"
   ]
  },
  {
   "cell_type": "code",
   "execution_count": 9,
   "metadata": {},
   "outputs": [
    {
     "name": "stdout",
     "output_type": "stream",
     "text": [
      "Train: 410 -- Test: 175\n"
     ]
    }
   ],
   "source": [
    "print('Train:', len(train_dataset.indices), '-- Test:', len(test_dataset.indices))"
   ]
  },
  {
   "cell_type": "markdown",
   "metadata": {},
   "source": [
    "## Training"
   ]
  },
  {
   "cell_type": "markdown",
   "metadata": {},
   "source": [
    "### Architecture"
   ]
  },
  {
   "cell_type": "code",
   "execution_count": 51,
   "metadata": {},
   "outputs": [],
   "source": [
    "# NUM_CLASSES: 5\n",
    "# INPUT_SHAPE: (128, 469, 1)\n",
    "\n",
    "class Network(nn.Module):\n",
    "    def __init__(self) -> None:\n",
    "        super().__init__()\n",
    "\n",
    "        self.conv_block1 = nn.Sequential(\n",
    "            nn.Conv2d(1, 16, kernel_size=(3, 4)),\n",
    "            nn.BatchNorm2d(16),\n",
    "            nn.MaxPool2d(kernel_size=(2, 3), stride=(2, 3)),\n",
    "            nn.ReLU()\n",
    "        )\n",
    "        self.conv_block2 = nn.Sequential(\n",
    "            nn.Conv2d(16, 32, kernel_size=(3, 4)),\n",
    "            nn.BatchNorm2d(32),\n",
    "            nn.MaxPool2d(kernel_size=(2, 3), stride=(2, 3)),\n",
    "            nn.ReLU()\n",
    "        )\n",
    "        self.conv_block3 = nn.Sequential(\n",
    "            nn.Conv2d(32, 64, kernel_size=(3, 4)),\n",
    "            nn.BatchNorm2d(64),\n",
    "            nn.ReLU()\n",
    "        )\n",
    "        self.dense_layers = nn.Sequential(\n",
    "            nn.Linear(64*28*47, 100),\n",
    "            nn.Dropout(0.2),\n",
    "            nn.ReLU(),\n",
    "            nn.Linear(100, 5)\n",
    "        )\n",
    "\n",
    "    def forward(self, X):\n",
    "        X = self.conv_block1(X)\n",
    "        X = self.conv_block2(X)\n",
    "        X = self.conv_block3(X)\n",
    "        X = X.view(-1, 64*28*47)\n",
    "        X = self.dense_layers(X)\n",
    "        return X"
   ]
  },
  {
   "cell_type": "code",
   "execution_count": 52,
   "metadata": {},
   "outputs": [
    {
     "name": "stdout",
     "output_type": "stream",
     "text": [
      "Network(\n",
      "  (conv_block1): Sequential(\n",
      "    (0): Conv2d(1, 16, kernel_size=(3, 4), stride=(1, 1))\n",
      "    (1): BatchNorm2d(16, eps=1e-05, momentum=0.1, affine=True, track_running_stats=True)\n",
      "    (2): MaxPool2d(kernel_size=(2, 3), stride=(2, 3), padding=0, dilation=1, ceil_mode=False)\n",
      "    (3): ReLU()\n",
      "  )\n",
      "  (conv_block2): Sequential(\n",
      "    (0): Conv2d(16, 32, kernel_size=(3, 4), stride=(1, 1))\n",
      "    (1): BatchNorm2d(32, eps=1e-05, momentum=0.1, affine=True, track_running_stats=True)\n",
      "    (2): MaxPool2d(kernel_size=(2, 3), stride=(2, 3), padding=0, dilation=1, ceil_mode=False)\n",
      "    (3): ReLU()\n",
      "  )\n",
      "  (conv_block3): Sequential(\n",
      "    (0): Conv2d(32, 64, kernel_size=(3, 4), stride=(1, 1))\n",
      "    (1): BatchNorm2d(64, eps=1e-05, momentum=0.1, affine=True, track_running_stats=True)\n",
      "    (2): ReLU()\n",
      "  )\n",
      "  (dense_layers): Sequential(\n",
      "    (0): Linear(in_features=84224, out_features=100, bias=True)\n",
      "    (1): Dropout(p=0.2, inplace=False)\n",
      "    (2): ReLU()\n",
      "    (3): Linear(in_features=100, out_features=5, bias=True)\n",
      "  )\n",
      ")\n"
     ]
    }
   ],
   "source": [
    "print(Network())"
   ]
  },
  {
   "cell_type": "markdown",
   "metadata": {},
   "source": [
    "### Training model"
   ]
  },
  {
   "cell_type": "code",
   "execution_count": 53,
   "metadata": {},
   "outputs": [],
   "source": [
    "from typing import Callable, Dict, List, Tuple\n",
    "\n",
    "class HearbetDetectorTrainer:\n",
    "    def __init__(self, model, lr: float, device: str) -> None:\n",
    "        self.__device = device\n",
    "        self.__optimizer = torch.optim.SGD(params = model.parameters(), lr=lr)\n",
    "        self.__precision_fn: Callable = Precision(task = 'multiclass', num_classes = 5).to(device)\n",
    "        self.__model = model.to(device)\n",
    "        self.__model.apply(self.__init_weights)\n",
    "\n",
    "    def __init_weights(self, module) -> None:\n",
    "        if isinstance(module, (nn.Linear, nn.Conv2d)):\n",
    "            torch.nn.init.xavier_uniform_(module.weight)\n",
    "            module.bias.data.fill_(0.01)\n",
    "\n",
    "    def __get_report_by_epoch(self, *args) -> None:\n",
    "        print('Epoch: {} | Loss: {:.4f} - Precision: {:.4f} --- Val loss: {:.4f} - Val precision: {:.4f}'.format(*args))\n",
    "\n",
    "    def __get_loaders(self, training_set, validation_set, batch_size: int) -> Tuple:\n",
    "        train_loader = DataLoader(training_set, batch_size=batch_size, shuffle=True)\n",
    "        val_loader = DataLoader(validation_set, batch_size=batch_size)\n",
    "        return train_loader, val_loader\n",
    "\n",
    "    def fit(self, loss_function, epochs: int, batch_size: int, training_set, validation_set) -> Dict[str, List]:\n",
    "\n",
    "        train_loader, val_loader = self.__get_loaders(training_set, validation_set, batch_size)\n",
    "\n",
    "        print('Training on', self.__device)\n",
    "\n",
    "        history_loss, history_val_loss, history_precision, history_val_precision = [], [], [], []\n",
    "\n",
    "        for epoch in range(epochs):\n",
    "            train_loss, train_precision = 0, 0\n",
    "\n",
    "            self.__model.train()\n",
    "\n",
    "            for specs, labels in train_loader:\n",
    "                specs, labels = specs.to(self.__device), labels.to(self.__device)\n",
    "\n",
    "                outputs = self.__model(specs)\n",
    "\n",
    "                loss = loss_function(outputs, labels)\n",
    "                train_loss += loss.item()\n",
    "                train_precision += self.__precision_fn(outputs, labels).item()\n",
    "\n",
    "                self.__optimizer.zero_grad()\n",
    "                loss.backward()\n",
    "                self.__optimizer.step()\n",
    "\n",
    "            self.__model.eval()\n",
    "            with torch.inference_mode():\n",
    "\n",
    "                val_precision, val_loss = 0, 0\n",
    "\n",
    "                for specs, labels in val_loader:\n",
    "                    specs, labels = specs.to(self.__device), labels.to(self.__device)\n",
    "                    outputs = self.__model(specs)\n",
    "                    loss = loss_function(outputs, labels)\n",
    "                    val_loss += loss.item()\n",
    "                    val_precision += self.__precision_fn(outputs, labels).item()\n",
    "\n",
    "            length_train_loader, length_val_loader = len(train_loader), len(val_loader)\n",
    "            loss_per_epoch: float = train_loss/length_train_loader\n",
    "            precision_per_epoch: float = train_precision/length_train_loader\n",
    "            val_loss_per_epoch: float = val_loss/length_val_loader\n",
    "            val_precision_per_epoch: float = val_precision/length_val_loader\n",
    "\n",
    "            history_loss.append(loss_per_epoch)\n",
    "            history_precision.append(precision_per_epoch)\n",
    "            history_val_loss.append(val_loss_per_epoch)\n",
    "            history_val_precision.append(val_precision_per_epoch)\n",
    "\n",
    "            self.__get_report_by_epoch(epoch + 1,\n",
    "                                       loss_per_epoch,\n",
    "                                       precision_per_epoch,\n",
    "                                       val_loss_per_epoch,\n",
    "                                       val_precision_per_epoch)\n",
    "\n",
    "        return {\n",
    "            'loss': history_loss,\n",
    "            'precision': history_precision,\n",
    "            'val_loss': history_val_loss,\n",
    "            'val_precision': history_val_precision\n",
    "        }\n",
    "\n",
    "    def predict(self, X):\n",
    "        return self.__model(X)"
   ]
  },
  {
   "cell_type": "markdown",
   "metadata": {},
   "source": [
    "Calculating weights to fix unbalanced classes:"
   ]
  },
  {
   "cell_type": "code",
   "execution_count": 54,
   "metadata": {},
   "outputs": [
    {
     "name": "stdout",
     "output_type": "stream",
     "text": [
      "label\n",
      "normal        0.34\n",
      "murmur        0.85\n",
      "extrastole    2.83\n",
      "artifact      2.93\n",
      "extrahls      5.86\n",
      "Name: count, dtype: float64\n"
     ]
    },
    {
     "data": {
      "text/plain": [
       "[0.34, 0.85, 2.83, 2.93, 5.86]"
      ]
     },
     "execution_count": 54,
     "metadata": {},
     "output_type": "execute_result"
    }
   ],
   "source": [
    "train_df = dataframe.iloc[train_dataset.indices]\n",
    "weights = round(len(train_df)/(5*train_df.label.value_counts()), 2)\n",
    "print(weights)\n",
    "list(weights.values)"
   ]
  },
  {
   "cell_type": "code",
   "execution_count": 55,
   "metadata": {},
   "outputs": [
    {
     "name": "stdout",
     "output_type": "stream",
     "text": [
      "Training on cuda\n"
     ]
    },
    {
     "name": "stderr",
     "output_type": "stream",
     "text": [
      "c:\\Users\\Erick\\miniconda3\\envs\\heartbet-sound-anomaly-detector-py311\\Lib\\site-packages\\torchaudio\\functional\\functional.py:584: UserWarning: At least one mel filterbank has all zero values. The value for `n_mels` (128) may be set too high. Or, the value for `n_freqs` (65) may be set too low.\n",
      "  warnings.warn(\n"
     ]
    },
    {
     "name": "stdout",
     "output_type": "stream",
     "text": [
      "Epoch: 1 | Loss: 1.3161 - Precision: 0.5121 --- Val loss: 1.2696 - Val precision: 0.6326\n",
      "Epoch: 2 | Loss: 0.9862 - Precision: 0.6383 --- Val loss: 1.2583 - Val precision: 0.6439\n",
      "Epoch: 3 | Loss: 0.8911 - Precision: 0.6869 --- Val loss: 1.1238 - Val precision: 0.6269\n",
      "Epoch: 4 | Loss: 0.8050 - Precision: 0.7136 --- Val loss: 1.1437 - Val precision: 0.6212\n",
      "Epoch: 5 | Loss: 0.7704 - Precision: 0.7209 --- Val loss: 1.1237 - Val precision: 0.6667\n",
      "Epoch: 6 | Loss: 0.7560 - Precision: 0.7379 --- Val loss: 1.2069 - Val precision: 0.6780\n",
      "Epoch: 7 | Loss: 0.7014 - Precision: 0.7573 --- Val loss: 1.1920 - Val precision: 0.6723\n",
      "Epoch: 8 | Loss: 0.6769 - Precision: 0.7816 --- Val loss: 1.1964 - Val precision: 0.6269\n",
      "Epoch: 9 | Loss: 0.6571 - Precision: 0.7961 --- Val loss: 1.1565 - Val precision: 0.6553\n",
      "Epoch: 10 | Loss: 0.5924 - Precision: 0.8058 --- Val loss: 1.1881 - Val precision: 0.6553\n",
      "Epoch: 11 | Loss: 0.6130 - Precision: 0.7985 --- Val loss: 1.1954 - Val precision: 0.6553\n",
      "Epoch: 12 | Loss: 0.5781 - Precision: 0.7840 --- Val loss: 1.1390 - Val precision: 0.6780\n",
      "Epoch: 13 | Loss: 0.5986 - Precision: 0.8058 --- Val loss: 1.1924 - Val precision: 0.6496\n",
      "Epoch: 14 | Loss: 0.5851 - Precision: 0.8034 --- Val loss: 1.1737 - Val precision: 0.6496\n",
      "Epoch: 15 | Loss: 0.5434 - Precision: 0.8131 --- Val loss: 1.2270 - Val precision: 0.6667\n",
      "Epoch: 16 | Loss: 0.5523 - Precision: 0.8107 --- Val loss: 1.1926 - Val precision: 0.6383\n",
      "Epoch: 17 | Loss: 0.5322 - Precision: 0.8301 --- Val loss: 1.1496 - Val precision: 0.6610\n",
      "Epoch: 18 | Loss: 0.5407 - Precision: 0.8350 --- Val loss: 1.1731 - Val precision: 0.6439\n",
      "Epoch: 19 | Loss: 0.5299 - Precision: 0.8301 --- Val loss: 1.1755 - Val precision: 0.6610\n",
      "Epoch: 20 | Loss: 0.4896 - Precision: 0.8495 --- Val loss: 1.0762 - Val precision: 0.6780\n",
      "Epoch: 21 | Loss: 0.5028 - Precision: 0.8301 --- Val loss: 1.3828 - Val precision: 0.6326\n",
      "Epoch: 22 | Loss: 0.4895 - Precision: 0.8422 --- Val loss: 1.3536 - Val precision: 0.6496\n",
      "Epoch: 23 | Loss: 0.4779 - Precision: 0.8374 --- Val loss: 1.3909 - Val precision: 0.6496\n",
      "Epoch: 24 | Loss: 0.4487 - Precision: 0.8447 --- Val loss: 1.2842 - Val precision: 0.6439\n",
      "Epoch: 25 | Loss: 0.4780 - Precision: 0.8374 --- Val loss: 1.1957 - Val precision: 0.6496\n",
      "Epoch: 26 | Loss: 0.4789 - Precision: 0.8471 --- Val loss: 1.3110 - Val precision: 0.6439\n",
      "Epoch: 27 | Loss: 0.4599 - Precision: 0.8374 --- Val loss: 1.3434 - Val precision: 0.6326\n",
      "Epoch: 28 | Loss: 0.4536 - Precision: 0.8398 --- Val loss: 1.3971 - Val precision: 0.6326\n",
      "Epoch: 29 | Loss: 0.4518 - Precision: 0.8398 --- Val loss: 1.1235 - Val precision: 0.6723\n",
      "Epoch: 30 | Loss: 0.4429 - Precision: 0.8519 --- Val loss: 1.3011 - Val precision: 0.6383\n",
      "CPU times: total: 10min 48s\n",
      "Wall time: 2min 48s\n"
     ]
    }
   ],
   "source": [
    "%%time\n",
    "\n",
    "device: str = 'cuda' if torch.cuda.is_available() else 'cpu'\n",
    "\n",
    "hearbetDetectorNetwork = HearbetDetectorTrainer(Network(), lr = 0.0001, device = device)\n",
    "\n",
    "class_weights = torch.tensor([0.34, 0.85, 2.83, 2.93, 5.86]).to(device)\n",
    "\n",
    "EPOCHS = 30\n",
    "\n",
    "history = hearbetDetectorNetwork.fit(nn.CrossEntropyLoss(),\n",
    "                                     epochs = EPOCHS,\n",
    "                                     batch_size = 4,\n",
    "                                     training_set = train_dataset,\n",
    "                                     validation_set = test_dataset)"
   ]
  },
  {
   "cell_type": "code",
   "execution_count": 56,
   "metadata": {},
   "outputs": [
    {
     "data": {
      "text/plain": [
       "<matplotlib.legend.Legend at 0x2dc315b7890>"
      ]
     },
     "execution_count": 56,
     "metadata": {},
     "output_type": "execute_result"
    },
    {
     "data": {
      "image/png": "[encoded data removed]",
      "text/plain": [
       "<Figure size 1100x400 with 2 Axes>"
      ]
     },
     "metadata": {},
     "output_type": "display_data"
    }
   ],
   "source": [
    "_, (ax1, ax2) = plt.subplots(1, 2, figsize=(11, 4))\n",
    "\n",
    "epochs = range(1, EPOCHS + 1)\n",
    "\n",
    "ax1.set_title('Loss')\n",
    "ax1.plot(epochs, history['loss'], label='Training')\n",
    "ax1.plot(epochs, history['val_loss'], label='Validation')\n",
    "ax1.legend()\n",
    "\n",
    "ax2.set_title('Precision')\n",
    "ax2.plot(epochs, history['precision'], label='Training')\n",
    "ax2.plot(epochs, history['val_precision'], label='Validation')\n",
    "ax2.legend()"
   ]
  }
 ],
 "metadata": {
  "kernelspec": {
   "display_name": "Python 3 (ipykernel)",
   "language": "python",
   "name": "python3"
  },
  "language_info": {
   "codemirror_mode": {
    "name": "ipython",
    "version": 3
   },
   "file_extension": ".py",
   "mimetype": "text/x-python",
   "name": "python",
   "nbconvert_exporter": "python",
   "pygments_lexer": "ipython3",
   "version": "3.11.5"
  }
 },
 "nbformat": 4,
 "nbformat_minor": 4
}
